{
 "cells": [
  {
   "cell_type": "code",
   "execution_count": null,
   "source": [
    "#Importing libraries\r\n",
    "import pandas as pd\r\n",
    "from sklearn.feature_extraction.text import TfidfVectorizer\r\n",
    "from sklearn.model_selection import train_test_split\r\n",
    "from sklearn.svm import LinearSVC\r\n",
    "from sklearn.pipeline import Pipeline\r\n",
    "\r\n",
    "#Setting dataframe\r\n",
    "pd.set_option('display.max_colwidth', 120)\r\n",
    "df = pd.read_json('reviews.json')"
   ],
   "outputs": [],
   "metadata": {}
  },
  {
   "cell_type": "code",
   "execution_count": null,
   "source": [
    "#Changing value names from the column sentiment\r\n",
    "df = df.replace({'sentiment' : { 'pos' : \"Positive\", 'neg' : \"Negative\", 'neutral' : \"Neutral\" }})"
   ],
   "outputs": [],
   "metadata": {}
  },
  {
   "cell_type": "code",
   "execution_count": null,
   "source": [
    "#Spliting train and test subsets\r\n",
    "x_train, x_test, y_train, y_test = train_test_split(df.text, df.sentiment, test_size = 0.2, random_state = 0)"
   ],
   "outputs": [],
   "metadata": {}
  },
  {
   "cell_type": "code",
   "execution_count": null,
   "source": [
    "#TfidfVectorizer() - Convert a collection of raw documents to a matrix of TF-IDF features. Equivalent to CountVectorizer \r\n",
    "#                    (Convert a collection of text documents to a matrix of token counts) followed by TfidfTransformer\r\n",
    "#                    (Transform a count matrix to a normalized tf or tf-idf representation).\r\n",
    "#LinearSVC() - Similar to SVC with parameter kernel=’linear’, but implemented in terms of liblinear rather than libsvm, \r\n",
    "#              so it has more flexibility in the choice of penalties and loss functions and should scale better to large \r\n",
    "#              numbers of samples.\r\n",
    "\r\n",
    "pipe = Pipeline([\r\n",
    "    (\"tdidf\", TfidfVectorizer()),\r\n",
    "    (\"clf\", LinearSVC())])"
   ],
   "outputs": [],
   "metadata": {}
  },
  {
   "cell_type": "code",
   "execution_count": null,
   "source": [
    "#Fitting to the model (\"learning\" the model)\r\n",
    "pipe.fit(x_train, y_train)"
   ],
   "outputs": [],
   "metadata": {}
  },
  {
   "cell_type": "code",
   "execution_count": null,
   "source": [
    "#The predict() function works on top of the trained model and makes use of the learned label to map and predict the labels \r\n",
    "#for the data to be tested.\r\n",
    "y_pred = pipe.predict(x_test)"
   ],
   "outputs": [],
   "metadata": {}
  },
  {
   "cell_type": "code",
   "execution_count": null,
   "source": [
    "#Creating a data frame with our model trained and the predictions\r\n",
    "data_pred = pd.DataFrame({'Data Model':y_pred})"
   ],
   "outputs": [],
   "metadata": {}
  },
  {
   "cell_type": "code",
   "execution_count": null,
   "source": [
    "#Saving the model as a .csv file\r\n",
    "data_pred.to_csv('data-model-docker.csv', index = False)"
   ],
   "outputs": [],
   "metadata": {}
  }
 ],
 "metadata": {
  "kernelspec": {
   "display_name": "Python 3",
   "language": "python",
   "name": "python3"
  },
  "language_info": {
   "codemirror_mode": {
    "name": "ipython",
    "version": 3
   },
   "file_extension": ".py",
   "mimetype": "text/x-python",
   "name": "python",
   "nbconvert_exporter": "python",
   "pygments_lexer": "ipython3",
   "version": "3.8.3"
  }
 },
 "nbformat": 4,
 "nbformat_minor": 4
}